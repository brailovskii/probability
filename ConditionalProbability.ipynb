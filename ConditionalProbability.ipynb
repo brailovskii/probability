{
  "nbformat": 4,
  "nbformat_minor": 0,
  "metadata": {
    "colab": {
      "name": "ConditionalProbability.ipynb",
      "provenance": [],
      "authorship_tag": "ABX9TyN6ZCGsGfZQzsjq7mF5470C",
      "include_colab_link": true
    },
    "kernelspec": {
      "name": "python3",
      "display_name": "Python 3"
    },
    "language_info": {
      "name": "python"
    }
  },
  "cells": [
    {
      "cell_type": "markdown",
      "metadata": {
        "id": "view-in-github",
        "colab_type": "text"
      },
      "source": [
        "<a href=\"https://colab.research.google.com/github/brailovskii/probability/blob/main/ConditionalProbability.ipynb\" target=\"_parent\"><img src=\"https://colab.research.google.com/assets/colab-badge.svg\" alt=\"Open In Colab\"/></a>"
      ]
    },
    {
      "cell_type": "markdown",
      "metadata": {
        "id": "2Gyphl4FhcJM"
      },
      "source": [
        "Question:\n",
        "\n",
        " Suppose that five good fuses and two defective ones have been mixed up. To find the defective fuses, we test them\n",
        "one-by-one, at random and without replacement. What is the probability that we are lucky and find both of the defective fuses\n",
        "in the first two tests?\n"
      ]
    },
    {
      "cell_type": "markdown",
      "metadata": {
        "id": "0all6fOBhkOd"
      },
      "source": [
        "Solution:\n",
        "\n",
        "Let A  be the event that we find a defective fuse in the first test and B is the event that we find a defective fuse in second test.\n",
        "We want to compute P(A ∩ B) = P(A)P(B|A) = 2/7 x 1/6 = 1/21\n",
        "\n",
        "\n"
      ]
    },
    {
      "cell_type": "code",
      "metadata": {
        "colab": {
          "base_uri": "https://localhost:8080/"
        },
        "id": "9L3CDgUZY8dM",
        "outputId": "c9ccf1f1-bc75-4481-db9c-7348bf267422"
      },
      "source": [
        "\n",
        "def_fuses = 2\n",
        "good_fuses = 5\n",
        "tot_fuses = def_fuses + good_fuses\n",
        "\n",
        "# P(A) probability that we find first defective fuse\n",
        "P_A = def_fuses/tot_fuses\n",
        "\n",
        "# P(B|A) probability of finding broken fuse in second test(and we know that first fuse was defective)\n",
        "P_B_A = (def_fuses-1)/tot_fuses\n",
        "\n",
        "# and we know that from conditional probability P(A and B) = P(A)* P(B|A) \n",
        "P_A_and_P_B = P_A * P_B_A\n",
        "\n",
        "print(\"Probability that 2 defective fuses will be found in first 2 tests is \", P_A_and_P_B)\n"
      ],
      "execution_count": 1,
      "outputs": [
        {
          "output_type": "stream",
          "text": [
            "Probability that 2 defective fuses will be found in first 2 tests is  0.04081632653061224\n"
          ],
          "name": "stdout"
        }
      ]
    }
  ]
}