{
  "nbformat": 4,
  "nbformat_minor": 0,
  "metadata": {
    "colab": {
      "name": "PDF",
      "provenance": [],
      "collapsed_sections": [],
      "authorship_tag": "ABX9TyNWGnNG2KzrGjfwYjde68X1",
      "include_colab_link": true
    },
    "kernelspec": {
      "name": "python3",
      "display_name": "Python 3"
    },
    "language_info": {
      "name": "python"
    }
  },
  "cells": [
    {
      "cell_type": "markdown",
      "metadata": {
        "id": "view-in-github",
        "colab_type": "text"
      },
      "source": [
        "<a href=\"https://colab.research.google.com/github/brailovskii/probability/blob/main/PDF.ipynb\" target=\"_parent\"><img src=\"https://colab.research.google.com/assets/colab-badge.svg\" alt=\"Open In Colab\"/></a>"
      ]
    },
    {
      "cell_type": "markdown",
      "metadata": {
        "id": "t5UjYbCheaW-"
      },
      "source": [
        "X rastgele degiskenine ait kesikli olasılık\n",
        "dagılım grafigi random() metodu kullanarak oluşturunuz. Oluşturduğunuz grafiğe ait Beklenen değer, Varyans hesaplayınız.\n",
        "\n"
      ]
    },
    {
      "cell_type": "code",
      "metadata": {
        "colab": {
          "base_uri": "https://localhost:8080/",
          "height": 346
        },
        "id": "7J5VEeuwb9xe",
        "outputId": "c3166de8-48c1-450f-e191-4ce0403b6133"
      },
      "source": [
        "import matplotlib.pyplot as plt\n",
        "import random\n",
        "\n",
        "def calc_exp_value(list):\n",
        "  exp_val = 0\n",
        "  for i in range(0, len(list)):\n",
        "    exp_val = exp_val + i*list[i]\n",
        "  return exp_val\n",
        "\n",
        "def calc_variance(list):\n",
        "  variance = calc_exp_value(list) * calc_exp_value(list)\n",
        "  for i in range(0, len(list)):\n",
        "    variance = variance + i*i*list[i]\n",
        "  return variance  \n",
        "\n",
        "\n",
        "x = range(0, 1000)\n",
        "Fx = [0]*len(x)\n",
        "\n",
        "for i in range(0,len(x)):\n",
        "  Fx[i] = random.randint(1,100)\n",
        "\n",
        "tot_sum = sum(Fx)\n",
        "for i in range(0,len(x)):\n",
        "  Fx[i] = Fx[i] / tot_sum \n",
        "\n",
        "print(sum(Fx))\n",
        "\n",
        "plt.bar(x, Fx, color='b')\n",
        "plt.plot()\n",
        "plt.xlabel(\"X\")\n",
        "plt.ylabel(\"Fx(X)\")\n",
        "plt.title(\"kesikli olasılık dagılım\")\n",
        "plt.show()\n",
        "\n",
        "print(\"Expected Value: \" + str(calc_exp_value(Fx)))\n",
        "print(\"Variance: \" + str(calc_variance(Fx)))"
      ],
      "execution_count": null,
      "outputs": [
        {
          "output_type": "stream",
          "text": [
            "0.9999999999999968\n"
          ],
          "name": "stdout"
        },
        {
          "output_type": "display_data",
          "data": {
            "image/png": "[encoded data removed]",
            "text/plain": [
              "<Figure size 432x288 with 1 Axes>"
            ]
          },
          "metadata": {
            "tags": [],
            "needs_background": "light"
          }
        },
        {
          "output_type": "stream",
          "text": [
            "Expected Value: 499.25311546412024\n",
            "Variance: 583142.7437209481\n"
          ],
          "name": "stdout"
        }
      ]
    },
    {
      "cell_type": "markdown",
      "metadata": {
        "id": "QSGGRbTxmW1e"
      },
      "source": [
        "F(x) = n*(x/4)^3   x=1,2,3,4,5,6,7,8,9 ve 0 diğer durumlarda.\n",
        "\n",
        "Buna göre:\n",
        "\n",
        "a) n değeri nedir?\n",
        "\n",
        "b) Beklenen değer nedir?\n",
        "\n",
        "c) Varyans nedir?\n",
        "\n",
        "\n"
      ]
    },
    {
      "cell_type": "code",
      "metadata": {
        "colab": {
          "base_uri": "https://localhost:8080/",
          "height": 363
        },
        "id": "I4lKTRg2nNiJ",
        "outputId": "81f2f31b-44e6-4332-cc1b-173986546b54"
      },
      "source": [
        "\n",
        "import matplotlib.pyplot as plt\n",
        "\n",
        "x = range(0, 11)\n",
        "Fx = [0]*len(x)\n",
        "\n",
        "for i in range(0, len(x)):\n",
        "  if i >= 1 and i <= 9:\n",
        "    Fx[i] = (x[i]/4) ** 3\n",
        "\n",
        "\n",
        "tot_sum = sum(Fx)\n",
        "n = 1 / tot_sum\n",
        "print(n)\n",
        "\n",
        "for i in range(0,len(x)):\n",
        "  Fx[i] = Fx[i] * n \n",
        "\n",
        "print(Fx)\n",
        "\n",
        "plt.bar(x, Fx, color='b')\n",
        "plt.plot()\n",
        "plt.xlabel(\"X\")\n",
        "plt.ylabel(\"Fx(X)\")\n",
        "plt.title(\"kesikli olasılık dagılım\")\n",
        "plt.show()\n",
        "\n",
        "print(\"Expected Value: \" + str(calc_exp_value(Fx)))\n",
        "print(\"Variance: \" + str(calc_variance(Fx)))\n"
      ],
      "execution_count": null,
      "outputs": [
        {
          "output_type": "stream",
          "text": [
            "0.03160493827160494\n",
            "[0.0, 0.0004938271604938272, 0.003950617283950617, 0.013333333333333334, 0.03160493827160494, 0.0617283950617284, 0.10666666666666667, 0.1693827160493827, 0.2528395061728395, 0.36, 0.0]\n"
          ],
          "name": "stdout"
        },
        {
          "output_type": "display_data",
          "data": {
            "image/png": "[encoded data removed]",
            "text/plain": [
              "<Figure size 432x288 with 1 Axes>"
            ]
          },
          "metadata": {
            "tags": [],
            "needs_background": "light"
          }
        },
        {
          "output_type": "stream",
          "text": [
            "Expected Value: 7.571851851851852\n",
            "Variance: 116.99960713305897\n"
          ],
          "name": "stdout"
        }
      ]
    }
  ]
}