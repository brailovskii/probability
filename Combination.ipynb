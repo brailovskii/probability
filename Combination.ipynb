{
  "nbformat": 4,
  "nbformat_minor": 0,
  "metadata": {
    "colab": {
      "name": "Combination.ipynb",
      "provenance": [],
      "authorship_tag": "ABX9TyOIK1KHbBGpTpff74tBslOj",
      "include_colab_link": true
    },
    "kernelspec": {
      "name": "python3",
      "display_name": "Python 3"
    },
    "language_info": {
      "name": "python"
    }
  },
  "cells": [
    {
      "cell_type": "markdown",
      "metadata": {
        "id": "view-in-github",
        "colab_type": "text"
      },
      "source": [
        "<a href=\"https://colab.research.google.com/github/brailovskii/probability/blob/main/Combination.ipynb\" target=\"_parent\"><img src=\"https://colab.research.google.com/assets/colab-badge.svg\" alt=\"Open In Colab\"/></a>"
      ]
    },
    {
      "cell_type": "markdown",
      "metadata": {
        "id": "ICSpfYsJTcQW"
      },
      "source": [
        "Question:\n",
        "\n",
        "In how many ways 2 different numbers can be chosen using the numbers between 0 and 200 (both inclusive) so that 80 is their average?\n"
      ]
    },
    {
      "cell_type": "markdown",
      "metadata": {
        "id": "0vdnlvd_Tk8Q"
      },
      "source": [
        "Solution:\n",
        "\n",
        "Let x and y be 2 numbers such that (x+y)/2 = 80 ⇒ x+y = 160\n",
        "\n",
        "x and y both cant be equal to or greater than 80 (Since 80 cant be used twice)\n",
        "\n",
        "Let 0 ≤ x ≤ 79  and  81 ≤ y ≤ 160\n",
        "The total number of ways in which x can be chosen \n",
        "\n",
        "= 80C1 = 80\n",
        "ways and the value of y depends on the value of x and there will be only one value of y corresponding to a value of x.\n",
        "\n",
        "Therefore, total number of ways in which the numbers can be formed = 80\n"
      ]
    },
    {
      "cell_type": "code",
      "metadata": {
        "colab": {
          "base_uri": "https://localhost:8080/"
        },
        "id": "xomVFeWwRciy",
        "outputId": "2d600103-527c-4061-b41b-5dbf15f39ab6"
      },
      "source": [
        "from math import factorial\n",
        "from itertools import combinations\n",
        "\n",
        "range_start = 0\n",
        "range_stop = 200\n",
        "average = 80\n",
        "\n",
        "comb_res = factorial(average)/(factorial(average - 1) * factorial(1))\n",
        "\n",
        "print(\"Two different number can be selected in \", comb_res, \" different ways\")\n",
        "\n",
        "for x in range(average):\n",
        "  print(\"(\", x, \",\", 160-x, \")\")\n"
      ],
      "execution_count": 4,
      "outputs": [
        {
          "output_type": "stream",
          "text": [
            "Two different number can be selected in  80.0  different ways\n",
            "( 0 , 160 )\n",
            "( 1 , 159 )\n",
            "( 2 , 158 )\n",
            "( 3 , 157 )\n",
            "( 4 , 156 )\n",
            "( 5 , 155 )\n",
            "( 6 , 154 )\n",
            "( 7 , 153 )\n",
            "( 8 , 152 )\n",
            "( 9 , 151 )\n",
            "( 10 , 150 )\n",
            "( 11 , 149 )\n",
            "( 12 , 148 )\n",
            "( 13 , 147 )\n",
            "( 14 , 146 )\n",
            "( 15 , 145 )\n",
            "( 16 , 144 )\n",
            "( 17 , 143 )\n",
            "( 18 , 142 )\n",
            "( 19 , 141 )\n",
            "( 20 , 140 )\n",
            "( 21 , 139 )\n",
            "( 22 , 138 )\n",
            "( 23 , 137 )\n",
            "( 24 , 136 )\n",
            "( 25 , 135 )\n",
            "( 26 , 134 )\n",
            "( 27 , 133 )\n",
            "( 28 , 132 )\n",
            "( 29 , 131 )\n",
            "( 30 , 130 )\n",
            "( 31 , 129 )\n",
            "( 32 , 128 )\n",
            "( 33 , 127 )\n",
            "( 34 , 126 )\n",
            "( 35 , 125 )\n",
            "( 36 , 124 )\n",
            "( 37 , 123 )\n",
            "( 38 , 122 )\n",
            "( 39 , 121 )\n",
            "( 40 , 120 )\n",
            "( 41 , 119 )\n",
            "( 42 , 118 )\n",
            "( 43 , 117 )\n",
            "( 44 , 116 )\n",
            "( 45 , 115 )\n",
            "( 46 , 114 )\n",
            "( 47 , 113 )\n",
            "( 48 , 112 )\n",
            "( 49 , 111 )\n",
            "( 50 , 110 )\n",
            "( 51 , 109 )\n",
            "( 52 , 108 )\n",
            "( 53 , 107 )\n",
            "( 54 , 106 )\n",
            "( 55 , 105 )\n",
            "( 56 , 104 )\n",
            "( 57 , 103 )\n",
            "( 58 , 102 )\n",
            "( 59 , 101 )\n",
            "( 60 , 100 )\n",
            "( 61 , 99 )\n",
            "( 62 , 98 )\n",
            "( 63 , 97 )\n",
            "( 64 , 96 )\n",
            "( 65 , 95 )\n",
            "( 66 , 94 )\n",
            "( 67 , 93 )\n",
            "( 68 , 92 )\n",
            "( 69 , 91 )\n",
            "( 70 , 90 )\n",
            "( 71 , 89 )\n",
            "( 72 , 88 )\n",
            "( 73 , 87 )\n",
            "( 74 , 86 )\n",
            "( 75 , 85 )\n",
            "( 76 , 84 )\n",
            "( 77 , 83 )\n",
            "( 78 , 82 )\n",
            "( 79 , 81 )\n"
          ],
          "name": "stdout"
        }
      ]
    }
  ]
}