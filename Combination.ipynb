{
  "nbformat": 4,
  "nbformat_minor": 0,
  "metadata": {
    "colab": {
      "name": "Combination.ipynb",
      "provenance": [],
      "authorship_tag": "ABX9TyOnJlVFc1i/UmZRSNvGi4HW",
      "include_colab_link": true
    },
    "kernelspec": {
      "name": "python3",
      "display_name": "Python 3"
    },
    "language_info": {
      "name": "python"
    }
  },
  "cells": [
    {
      "cell_type": "markdown",
      "metadata": {
        "id": "view-in-github",
        "colab_type": "text"
      },
      "source": [
        "<a href=\"https://colab.research.google.com/github/brailovskii/probability/blob/main/Combination.ipynb\" target=\"_parent\"><img src=\"https://colab.research.google.com/assets/colab-badge.svg\" alt=\"Open In Colab\"/></a>"
      ]
    },
    {
      "cell_type": "markdown",
      "metadata": {
        "id": "ICSpfYsJTcQW"
      },
      "source": [
        "Question:\n",
        "\n",
        "In how many ways 2 different numbers can be chosen using the numbers between 0 and 200 (both inclusive) so that 80 is their average?\n"
      ]
    },
    {
      "cell_type": "markdown",
      "metadata": {
        "id": "0vdnlvd_Tk8Q"
      },
      "source": [
        "Solution:\n",
        "\n",
        "Let x and y be 2 numbers such that (x+y)/2 = 80 ⇒ x+y = 160\n",
        "\n",
        "x and y both cant be equal to or greater than 80 (Since 80 cant be used twice)\n",
        "\n",
        "Let 0 ≤ x ≤ 79  and  81 ≤ y ≤ 160\n",
        "The total number of ways in which x can be chosen \n",
        "\n",
        "= 80C1 = 80\n",
        "ways and the value of y depends on the value of x and there will be only one value of y corresponding to a value of x.\n",
        "\n",
        "Therefore, total number of ways in which the numbers can be formed = 80\n"
      ]
    },
    {
      "cell_type": "code",
      "metadata": {
        "colab": {
          "base_uri": "https://localhost:8080/"
        },
        "id": "xomVFeWwRciy",
        "outputId": "ec12d708-5491-406a-9e8d-3d09bb6ba23c"
      },
      "source": [
        "from math import factorial\n",
        "from itertools import combinations\n",
        "\n",
        "range_start = 0\n",
        "range_stop = 200\n",
        "average = 80\n",
        "\n",
        "comb_res = factorial(average)/(factorial(average - 1) * factorial(1))\n",
        "\n",
        "print(\"Two different number can be selected in \", comb_res, \" different ways\")\n",
        "\n"
      ],
      "execution_count": 2,
      "outputs": [
        {
          "output_type": "stream",
          "text": [
            "Two different number can be selected in  80.0  different ways\n"
          ],
          "name": "stdout"
        }
      ]
    }
  ]
}